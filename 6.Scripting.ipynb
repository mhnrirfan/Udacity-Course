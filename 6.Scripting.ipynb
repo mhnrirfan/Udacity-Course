{
 "cells": [
  {
   "cell_type": "markdown",
   "metadata": {},
   "source": [
    "### Verify Version \n",
    "$ python --version"
   ]
  },
  {
   "cell_type": "markdown",
   "metadata": {},
   "source": [
    "### Scripting with Raw Input\n",
    "- The `input()` function allows you to get raw input from the user.  \n",
    "- You can provide a prompt message inside the function to guide the user.  \n",
    "- The value returned by `input()` is always a string.  \n",
    "- If you need the input as a different data type, such as an integer or float, you must convert it using type casting functions like `int()` or `float()`.  \n",
    "- To evaluate the input as a Python expression, you can use the `eval()` function, which processes the input string as Python code and returns the result.  \n",
    "- Use `eval()` with caution, as it can run arbitrary and potentially unsafe code when used with untrusted input."
   ]
  },
  {
   "cell_type": "code",
   "execution_count": 2,
   "metadata": {},
   "outputs": [
    {
     "name": "stdout",
     "output_type": "stream",
     "text": [
      "Hello there, Mano!\n",
      "hellohellohellohello\n",
      "6\n"
     ]
    }
   ],
   "source": [
    "name = input(\"Enter your name: \")\n",
    "print(\"Hello there, {}!\".format(name.title()))\n",
    "\n",
    "num = int(input(\"Enter an integer\"))\n",
    "print(\"hello\" * num)\n",
    "\n",
    "result = eval(input(\"Enter an expression: \"))\n",
    "print(result)"
   ]
  },
  {
   "cell_type": "code",
   "execution_count": 4,
   "metadata": {},
   "outputs": [
    {
     "name": "stdout",
     "output_type": "stream",
     "text": [
      "Hi Parisha Geller,\n",
      "\n",
      "This is a reminder that you have 2 assignments left to submit before you can graduate. You're current grade is 45 and can increase to 49 if you submit all assignments before the due date.\n",
      "\n",
      "\n",
      "Hi  Mano Geller,\n",
      "\n",
      "This is a reminder that you have 3 assignments left to submit before you can graduate. You're current grade is 99 and can increase to 105 if you submit all assignments before the due date.\n",
      "\n",
      "\n"
     ]
    }
   ],
   "source": [
    "names = input(\"Enter names separated by commas: \").title().split(\",\")\n",
    "assignments = input(\"Enter assignment counts separated by commas: \").split(\",\")\n",
    "grades = input(\"Enter grades separated by commas: \").split(\",\")\n",
    "\n",
    "message = \"Hi {},\\n\\nThis is a reminder that you have {} assignments left to \\\n",
    "submit before you can graduate. You're current grade is {} and can increase \\\n",
    "to {} if you submit all assignments before the due date.\\n\\n\"\n",
    "\n",
    "for name, assignment, grade in zip(names, assignments, grades):\n",
    "    print(message.format(name, assignment, grade, int(grade) + int(assignment)*2))"
   ]
  },
  {
   "cell_type": "markdown",
   "metadata": {},
   "source": [
    "### Errors and Exceptions\n",
    "- ValueError: An object of the correct type but inappropriate value is passed as input to a built-in operation or function.\n",
    "- AssertionError: An assert statement fails.\n",
    "- IndexError: A sequence subscript is out of range.\n",
    "- KeyError: A key can't be found in a dictionary.\n",
    "- TypeError: An object of an unsupported type is passed as input to an operation or function.\n",
    "\n",
    "``` python try:\n",
    "    # some code\n",
    "except ValueError:\n",
    "    # some code\n",
    "except KeyboardInterrupt:\n",
    "    # some code ```"
   ]
  },
  {
   "cell_type": "markdown",
   "metadata": {},
   "source": [
    "### Try Except Blocks \n",
    "for num_each and leftover\n",
    "    # TODO: Add a try-except block here to\n",
    "    #       make sure no ZeroDivisionError occurs. "
   ]
  },
  {
   "cell_type": "code",
   "execution_count": 5,
   "metadata": {},
   "outputs": [
    {
     "name": "stdout",
     "output_type": "stream",
     "text": [
      "Cannot have 0 people\n",
      "\n",
      "Let's party! We'll have 9 people attending, they'll each get to eat 1 cookies, and we'll have 0 left over.\n"
     ]
    }
   ],
   "source": [
    "def party_planner(cookies, people):\n",
    "    leftovers = None\n",
    "    num_each = None\n",
    "\n",
    "    try:\n",
    "         num_each = cookies // people\n",
    "         leftovers = cookies % people\n",
    "    except ZeroDivisionError:\n",
    "        print(\"Cannot have 0 people\")\n",
    "    return(num_each, leftovers)\n",
    "\n",
    "# The main code block is below; do not edit this\n",
    "lets_party = 'y'\n",
    "while lets_party == 'y':\n",
    "\n",
    "    cookies = int(input(\"How many cookies are you baking? \"))\n",
    "    people = int(input(\"How many people are attending? \"))\n",
    "\n",
    "    cookies_each, leftovers = party_planner(cookies, people)\n",
    "\n",
    "    if cookies_each:  # if cookies_each is not None\n",
    "        message = \"\\nLet's party! We'll have {} people attending, they'll each get to eat n} cookies, and we'll have {} left over.\"\n",
    "        print(message.format(people, cookies_each, leftovers))\n",
    "\n",
    "    lets_party = input(\"\\nWould you like to party more? (y or n) \")"
   ]
  },
  {
   "cell_type": "code",
   "execution_count": 9,
   "metadata": {},
   "outputs": [
    {
     "name": "stdout",
     "output_type": "stream",
     "text": [
      "ZeroDivisionError occurred: division by zero\n"
     ]
    }
   ],
   "source": [
    "a = 5\n",
    "b = 0\n",
    "try:\n",
    "    c = a/b\n",
    "    print(c)\n",
    "except ZeroDivisionError as e:\n",
    "   # some code\n",
    "   print(\"ZeroDivisionError occurred: {}\".format(e))"
   ]
  },
  {
   "cell_type": "markdown",
   "metadata": {},
   "source": [
    "### reading and accessing files \n",
    "\n",
    "``` python  # autocloses when done \n",
    "with open('my_path/my_file.txt', 'r') as f:\n",
    "    file_data = f.read()\n",
    "```"
   ]
  },
  {
   "cell_type": "code",
   "execution_count": null,
   "metadata": {},
   "outputs": [],
   "source": [
    "def create_cast_list(filename):\n",
    "    cast_list = []\n",
    "    with open(filename) as f:\n",
    "        for line in f:\n",
    "            name = line.split(\",\")[0]\n",
    "            cast_list.append(name)\n",
    "    \n",
    "    return cast_list\n",
    "\n",
    "cast_list = create_cast_list('flying_circus_cast.txt')\n",
    "for actor in cast_list:\n",
    "    print(actor)"
   ]
  },
  {
   "cell_type": "code",
   "execution_count": null,
   "metadata": {},
   "outputs": [],
   "source": [
    "Graham Chapman\n",
    "Eric Idle\n",
    "Terry Jones\n",
    "Michael Palin\n",
    "Terry Gilliam\n",
    "John Cleese\n",
    "Carol Cleveland\n",
    "Ian Davidson\n",
    "John Hughman"
   ]
  },
  {
   "cell_type": "markdown",
   "metadata": {},
   "source": [
    "### Our favourite modules\n",
    "The Python Standard Library has a lot of modules! To help you get familiar with what's available, here are a selection of our favourite Python Standard Library modules and why we use them!\n",
    "\n",
    "- csv(opens in a new tab): very convenient for reading and writing csv files\n",
    "- collections(opens in a new tab): useful extensions of the usual data types including OrderedDict, defaultdict and namedtuple\n",
    "- random(opens in a new tab): generates pseudo-random numbers, shuffles sequences randomly and chooses random items\n",
    "- string(opens in a new tab): more functions on strings. This module also contains useful collections of letters like string.digits (a string containing all characters which are valid digits).\n",
    "- re(opens in a new tab): pattern-matching in strings via regular expressions\n",
    "- math(opens in a new tab): some standard mathematical functions\n",
    "- os(opens in a new tab): interacting with operating systems\n",
    "- os.path(opens in a new tab): submodule of os for manipulating path names\n",
    "- sys(opens in a new tab): work directly with the Python interpreter\n",
    "- json(opens in a new tab): good for reading and writing json files (good for web work)\n",
    "- zipfile: Which module can help extract all of the files from a zip file?\n",
    "- time: Which module can say how long your code took to run\n"
   ]
  },
  {
   "cell_type": "code",
   "execution_count": 11,
   "metadata": {},
   "outputs": [
    {
     "name": "stdout",
     "output_type": "stream",
     "text": [
      "20.085536923187664\n"
     ]
    }
   ],
   "source": [
    "# print e to the power of 3 using the math module\n",
    "import math \n",
    "print(math.pow(math.e, 3))"
   ]
  },
  {
   "cell_type": "markdown",
   "metadata": {},
   "source": [
    "### Third Party Libraries\n",
    "You can install them using **`pip`**, a package manager that comes with Python 3. \n",
    "While `pip` is the standard package manager for Python, another popular option is **Anaconda**, which is designed specifically for data science.\n",
    "To install a package, simply use the following command in your terminal:\n",
    "```bash\n",
    "pip install package_name```"
   ]
  },
  {
   "cell_type": "markdown",
   "metadata": {},
   "source": [
    "### Using a `requirements.txt` File\n",
    "Larger Python programs often rely on many third-party packages. To simplify sharing these programs, dependencies are listed in a `requirements.txt` file. Example:\n",
    "\n",
    "``` text\n",
    "beautifulsoup4==4.5.1\n",
    "bs4==0.0.1\n",
    "pytz==2016.7\n",
    "requests==2.11.1```\n",
    "\n",
    "``` python\n",
    "pip install -r requirements.txt```\n",
    "This version keeps it brief while retaining the important points. Let me know if you need any further adjustments!\n"
   ]
  },
  {
   "cell_type": "markdown",
   "metadata": {},
   "source": [
    "- IPython(opens in a new tab) - A better interactive Python interpreter\n",
    "- requests(opens in a new tab) - Provides easy to use methods to make web requests. Useful for accessing web APIs.\n",
    "- Flask(opens in a new tab) - a lightweight framework for making web applications and APIs.\n",
    "- Django(opens in a new tab) - A more featureful framework for making web applications. Django is particularly good for designing complex, content heavy, web applications.\n",
    "- Beautiful Soup(opens in a new tab) - Used to parse HTML and extract information from it. Great for web scraping.\n",
    "- pytest(opens in a new tab) - extends Python's builtin assertions and unittest module.\n",
    "- PyYAML(opens in a new tab) - For reading and writing YAML(opens in a new tab) files.\n",
    "- NumPy(opens in a new tab) - The fundamental package for scientific computing with Python. It contains among other things a powerful N-dimensional array object and useful linear algebra capabilities.\n",
    "- pandas(opens in a new tab) - A library containing high-performance, data structures and data analysis tools. In particular, pandas provides dataframes!\n",
    "- matplotlib(opens in a new tab) - a 2D plotting library which produces publication quality figures in a variety of hardcopy formats and interactive environments.\n",
    "- ggplot(opens in a new tab) - Another 2D plotting library, based on R's ggplot2 library.\n",
    "- Pillow(opens in a new tab) - The Python Imaging Library adds image processing capabilities to your Python interpreter.\n",
    "- pyglet(opens in a new tab) - A cross-platform application framework intended for game development.\n",
    "- Pygame(opens in a new tab) - A set of Python modules designed for writing games.\n",
    "- pytz(opens in a new tab) - World Timezone Definitions for Python"
   ]
  }
 ],
 "metadata": {
  "kernelspec": {
   "display_name": "Python 3",
   "language": "python",
   "name": "python3"
  },
  "language_info": {
   "codemirror_mode": {
    "name": "ipython",
    "version": 3
   },
   "file_extension": ".py",
   "mimetype": "text/x-python",
   "name": "python",
   "nbconvert_exporter": "python",
   "pygments_lexer": "ipython3",
   "version": "3.10.6"
  }
 },
 "nbformat": 4,
 "nbformat_minor": 2
}
