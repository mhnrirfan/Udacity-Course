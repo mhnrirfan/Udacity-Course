{
 "cells": [
  {
   "cell_type": "markdown",
   "metadata": {},
   "source": [
    "Re-using the verse sceanrio\n",
    "New Questions: \n",
    "\n",
    "### **Dictionary-Based Questions**\n",
    "1. How many unique keys are in `verse_dict`?\n",
    "2. Is the key `\"trust\"` in `verse_dict`?\n",
    "3. What is the last element in the list created when `verse_dict` is sorted by keys?\n",
    "4. What is the sum of all values in `verse_dict`?\n",
    "5. What are the three most frequently occurring words in `verse_dict`?\n",
    "6. Remove the word `\"nor\"` from `verse_dict`. What is the updated dictionary?\n",
    "7. Create a new dictionary containing only words that appear more than once.\n",
    "8. What is the longest key (word) in `verse_dict`?\n",
    "9. Convert `verse_dict` into a list of `(key, value)` tuples and sort it by values in descending order.\n",
    "10. Reverse the key-value pairs in `verse_dict` (make values the keys and keys the values, keeping only unique ones).\n",
    "\n",
    "---\n",
    "\n",
    "### **List-Based Questions**\n",
    "1. Convert the dictionary keys into a list and find the length of the longest word.\n",
    "2. Find the first and last word in the sorted list of keys.\n",
    "3. How many words in the list of keys start with the letter `'t'`?\n",
    "4. Create a list containing only words with more than 3 letters.\n",
    "5. Count how many words contain the letter `'o'`.\n",
    "\n",
    "---\n",
    "\n",
    "### **Set-Based Questions**\n",
    "1. Convert the dictionary keys into a set and check if `\"blaming\"` is in the set.\n",
    "2. Find the intersection between the set of dictionary keys and the set `{ \"trust\", \"wise\", \"good\", \"false\" }`.\n",
    "3. Find the difference between the set of dictionary keys and `{ \"can\", \"keep\", \"your\", \"head\" }`.\n",
    "4. How many words in the set contain an `'e'`?\n",
    "5. Convert the values of `verse_dict` into a set. What does it contain?\n",
    "\n",
    "---\n",
    "\n",
    "### **Tuple-Based Questions**\n",
    "1. Convert `verse_dict` into a list of tuples and print the first three items.\n",
    "2. What is the second highest value in `verse_dict`, and which word corresponds to it?\n",
    "3. Convert the dictionary into a tuple of (key, value) pairs and find the tuple with the smallest value.\n",
    "4. Create a tuple containing all the words from `verse_dict`, sorted alphabetically.\n",
    "5. Swap the first and last words in the tuple.\n",
    "\n"
   ]
  },
  {
   "cell_type": "code",
   "execution_count": 8,
   "metadata": {},
   "outputs": [
    {
     "name": "stdout",
     "output_type": "stream",
     "text": [
      "{'if': 3, 'you': 6, 'can': 3, 'keep': 1, 'your': 1, 'head': 1, 'when': 2, 'all': 2, 'about': 2, 'are': 1, 'losing': 1, 'theirs': 1, 'and': 3, 'blaming': 1, 'it': 1, 'on': 1, 'trust': 1, 'yourself': 1, 'men': 1, 'doubt': 1, 'but': 1, 'make': 1, 'allowance': 1, 'for': 1, 'their': 1, 'doubting': 1, 'too': 3, 'wait': 1, 'not': 1, 'be': 1, 'tired': 1, 'by': 1, 'waiting': 1, 'or': 2, 'being': 2, 'lied': 1, \"don't\": 3, 'deal': 1, 'in': 1, 'lies': 1, 'hated': 1, 'give': 1, 'way': 1, 'to': 1, 'hating': 1, 'yet': 1, 'look': 1, 'good': 1, 'nor': 1, 'talk': 1, 'wise': 1} \n",
      "\n",
      "51\n",
      "True\n",
      "yourself\n",
      "71\n",
      "[('you', 6), ('if', 3), ('can', 3)]\n",
      "{'if': 3, 'you': 6, 'can': 3, 'keep': 1, 'your': 1, 'head': 1, 'when': 2, 'all': 2, 'about': 2, 'are': 1, 'losing': 1, 'theirs': 1, 'and': 3, 'blaming': 1, 'it': 1, 'on': 1, 'trust': 1, 'yourself': 1, 'men': 1, 'doubt': 1, 'but': 1, 'make': 1, 'allowance': 1, 'for': 1, 'their': 1, 'doubting': 1, 'too': 3, 'wait': 1, 'not': 1, 'be': 1, 'tired': 1, 'by': 1, 'waiting': 1, 'or': 2, 'being': 2, 'lied': 1, \"don't\": 3, 'deal': 1, 'in': 1, 'lies': 1, 'hated': 1, 'give': 1, 'way': 1, 'to': 1, 'hating': 1, 'yet': 1, 'look': 1, 'good': 1, 'talk': 1, 'wise': 1}\n",
      "{'if': 3, 'you': 6, 'can': 3, 'when': 2, 'all': 2, 'about': 2, 'and': 3, 'too': 3, 'or': 2, 'being': 2, \"don't\": 3}\n",
      "allowance\n",
      "[('you', 6), ('if', 3), ('can', 3), ('and', 3), ('too', 3), (\"don't\", 3), ('when', 2), ('all', 2), ('about', 2), ('or', 2), ('being', 2), ('keep', 1), ('your', 1), ('head', 1), ('are', 1), ('losing', 1), ('theirs', 1), ('blaming', 1), ('it', 1), ('on', 1), ('trust', 1), ('yourself', 1), ('men', 1), ('doubt', 1), ('but', 1), ('make', 1), ('allowance', 1), ('for', 1), ('their', 1), ('doubting', 1), ('wait', 1), ('not', 1), ('be', 1), ('tired', 1), ('by', 1), ('waiting', 1), ('lied', 1), ('deal', 1), ('in', 1), ('lies', 1), ('hated', 1), ('give', 1), ('way', 1), ('to', 1), ('hating', 1), ('yet', 1), ('look', 1), ('good', 1), ('talk', 1), ('wise', 1)]\n",
      "{3: \"don't\", 6: 'you', 1: 'wise', 2: 'being'}\n"
     ]
    }
   ],
   "source": [
    "verse_dict =  {'if': 3, 'you': 6, 'can': 3, 'keep': 1, 'your': 1, 'head': 1, 'when': 2, 'all': 2, 'about': 2, 'are': 1, 'losing': 1, 'theirs': 1, 'and': 3, 'blaming': 1, 'it': 1, 'on': 1, 'trust': 1, 'yourself': 1, 'men': 1, 'doubt': 1, 'but': 1, 'make': 1, 'allowance': 1, 'for': 1, 'their': 1, 'doubting': 1, 'too': 3, 'wait': 1, 'not': 1, 'be': 1, 'tired': 1, 'by': 1, 'waiting': 1, 'or': 2, 'being': 2, 'lied': 1, 'don\\'t': 3, 'deal': 1, 'in': 1, 'lies': 1, 'hated': 1, 'give': 1, 'way': 1, 'to': 1, 'hating': 1, 'yet': 1, 'look': 1, 'good': 1, 'nor': 1, 'talk': 1, 'wise': 1}\n",
    "print(verse_dict, '\\n')\n",
    "\n",
    "# 1. How many unique keys are in `verse_dict`?\n",
    "\"\"\"All keys are unique in a dictornary so just print number of keys\"\"\"\n",
    "print(len(verse_dict.keys()))\n",
    "\n",
    "# 2. Is the key `\"trust\"` in `verse_dict`?\n",
    "print(\"trust\" in verse_dict)\n",
    "\n",
    "# 3. What is the last element in the list created when `verse_dict` is sorted by keys?\n",
    "sorted_keys = sorted(verse_dict.keys())\n",
    "print(sorted_keys[-1])\n",
    "\n",
    "# 4. What is the sum of all values in `verse_dict`?\n",
    "print(sum(verse_dict.values()))\n",
    "\n",
    "# 5. What are the three most frequently occurring words in `verse_dict`?\n",
    "sorted_dict = sorted(verse_dict.items(), key=lambda x: x[1], reverse=True)\n",
    "top_three = sorted_dict[:3]\n",
    "print(top_three)\n",
    "\n",
    "# 6. Remove the word `\"nor\"` from `verse_dict`. What is the updated dictionary?\n",
    "del verse_dict[\"nor\"]\n",
    "print(verse_dict)\n",
    "\n",
    "# 7. Create a new dictionary containing only words that appear more than once.\n",
    "\n",
    "# New dictionary to store filtered items\n",
    "new_dict = {}\n",
    "# Outer loop to iterate through the dict\n",
    "for key, value in verse_dict.items():\n",
    "    # Inner if statement to check if value > 1\n",
    "    if value > 1:\n",
    "        # Add to new dict\n",
    "        new_dict[key] = value\n",
    "\n",
    "# Print the new dictionary\n",
    "print(new_dict)\n",
    "\n",
    "# 8. What is the longest key (word) in `verse_dict`?\n",
    "longest_key = max(verse_dict, key=len)\n",
    "print(longest_key)\n",
    "\n",
    "# 9. Convert `verse_dict` into a list of `(key, value)` tuples and sort it by values in descending order.\n",
    "sorted_dict_list = sorted(verse_dict.items(), #values from the dictonary\n",
    "                          key=lambda x: x[1], #part1 is key, part2 is the matching value\n",
    "                          reverse=True) # decending order\n",
    "print(sorted_dict_list)  # Correct, gives a list of tuples sorted by value\n",
    "\n",
    "# 10. Reverse the key-value pairs in `verse_dict` (make values the keys and keys the values, keeping only unique ones).\n",
    "\"\"\"Dictionary does not have duplicates for the keys but one the values are the keys there will be but these will automatically be removed\"\"\"\n",
    "reversed_dict = {values: key for key, # key is the key in the original dict and \n",
    "                 values in verse_dict.items()} # values is the value in the original dict\n",
    "print(reversed_dict)  \n",
    "\n",
    "\n",
    "\n"
   ]
  },
  {
   "cell_type": "code",
   "execution_count": 13,
   "metadata": {},
   "outputs": [
    {
     "name": "stdout",
     "output_type": "stream",
     "text": [
      "allowance\n",
      "allowance\n",
      "you\n",
      "7\n",
      "['your', 'yourself', 'when', 'wait', 'waiting', 'wise', 'theirs', 'trust', 'their', 'tired', 'talk', 'make', 'losing', 'lied', 'lies', 'look', 'keep', 'head', 'hated', 'hating', 'give', 'good', 'doubt', 'doubting', \"don't\", 'deal', 'blaming', 'being', 'about', 'allowance']\n",
      "18\n"
     ]
    }
   ],
   "source": [
    " \n",
    "verse_dict =  {'if': 3, 'you': 6, 'can': 3, 'keep': 1, 'your': 1, 'head': 1, 'when': 2, 'all': 2, 'about': 2, 'are': 1, 'losing': 1, 'theirs': 1, 'and': 3, 'blaming': 1, 'it': 1, 'on': 1, 'trust': 1, 'yourself': 1, 'men': 1, 'doubt': 1, 'but': 1, 'make': 1, 'allowance': 1, 'for': 1, 'their': 1, 'doubting': 1, 'too': 3, 'wait': 1, 'not': 1, 'be': 1, 'tired': 1, 'by': 1, 'waiting': 1, 'or': 2, 'being': 2, 'lied': 1, 'don\\'t': 3, 'deal': 1, 'in': 1, 'lies': 1, 'hated': 1, 'give': 1, 'way': 1, 'to': 1, 'hating': 1, 'yet': 1, 'look': 1, 'good': 1, 'nor': 1, 'talk': 1, 'wise': 1}\n",
    "\n",
    "# 1. Convert the dictionary keys into a list and find the length of the longest word.\n",
    "verse_list = sorted(verse_dict.keys())  # Sort the keys alphabetically\n",
    "longest_word = max(verse_list, key=len)  # Find the longest word\n",
    "print(longest_word)\n",
    "\n",
    "# 2. Find the first and last word in the sorted list of keys.\n",
    "print(verse_list[0])  # First word\n",
    "print(verse_list[-1])  # Last word\n",
    "\n",
    "# 3. How many words in the list of keys start with the letter `'t'`?\n",
    "sum_t = sum(1 for word in verse_list if word.startswith(\"t\"))\n",
    "print(sum_t)\n",
    "\n",
    "# 4. Create a list containing only words with more than 3 letters.\n",
    "three_letter_list = [word for word in verse_list if len(word) > 3]\n",
    "print(three_letter_list)\n",
    "\n",
    "# 5. Count how many words contain the letter `'o'`.\n",
    "sum_o = sum(1 for word in verse_list if word.count(\"o\"))\n",
    "print(sum_o)\n"
   ]
  },
  {
   "cell_type": "code",
   "execution_count": 23,
   "metadata": {},
   "outputs": [
    {
     "name": "stdout",
     "output_type": "stream",
     "text": [
      "True\n",
      "{'wise', 'trust', 'good'}\n",
      "{'nor', 'good', 'allowance', 'losing', 'if', 'yourself', 'deal', 'theirs', 'tired', 'talk', 'about', 'by', 'being', 'when', 'but', 'too', 'yet', 'on', 'it', 'doubting', 'their', 'hated', 'way', \"don't\", 'give', 'wait', 'you', 'men', 'make', 'doubt', 'not', 'lied', 'trust', 'to', 'hating', 'in', 'all', 'look', 'waiting', 'lies', 'are', 'be', 'and', 'or', 'wise', 'for', 'blaming'}\n",
      "20\n",
      "{1, 2, 3, 6}\n"
     ]
    }
   ],
   "source": [
    "verse_dict =  {'if': 3, 'you': 6, 'can': 3, 'keep': 1, 'your': 1, 'head': 1, 'when': 2, 'all': 2, 'about': 2, 'are': 1, 'losing': 1, 'theirs': 1, 'and': 3, 'blaming': 1, 'it': 1, 'on': 1, 'trust': 1, 'yourself': 1, 'men': 1, 'doubt': 1, 'but': 1, 'make': 1, 'allowance': 1, 'for': 1, 'their': 1, 'doubting': 1, 'too': 3, 'wait': 1, 'not': 1, 'be': 1, 'tired': 1, 'by': 1, 'waiting': 1, 'or': 2, 'being': 2, 'lied': 1, 'don\\'t': 3, 'deal': 1, 'in': 1, 'lies': 1, 'hated': 1, 'give': 1, 'way': 1, 'to': 1, 'hating': 1, 'yet': 1, 'look': 1, 'good': 1, 'nor': 1, 'talk': 1, 'wise': 1}\n",
    "\n",
    "# 1. Convert the dictionary keys into a set and check if `\"blaming\"` is in the set.\n",
    "verse_set = set(verse_dict)\n",
    "print(\"blaming\" in verse_set)\n",
    "\n",
    "# 2. Find the intersection between the set of dictionary keys and the set `{ \"trust\", \"wise\", \"good\", \"false\" }`.\n",
    "new_set = { \"trust\", \"wise\", \"good\", \"false\" }\n",
    "intersection_set = verse_set.intersection(new_set)\n",
    "print(intersection_set)\n",
    "\n",
    "# 3. Find the difference between the set of dictionary keys and `{ \"can\", \"keep\", \"your\", \"head\" }`.\n",
    "new_set = { \"can\", \"keep\", \"your\", \"head\" }\n",
    "intersection_set = verse_set.difference(new_set)\n",
    "print(intersection_set)\n",
    "\n",
    "# 4. How many words in the set contain an `'e'`?\n",
    "sum_e = sum(1 for word in verse_list if 'e' in word)\n",
    "print(sum_e)\n",
    "\n",
    "# 5. Convert the values of `verse_dict` into a set. What does it contain?\n",
    "verse_set = set(verse_dict.values()) #removes the duplicates\n",
    "print(verse_set)"
   ]
  },
  {
   "cell_type": "code",
   "execution_count": 39,
   "metadata": {},
   "outputs": [
    {
     "name": "stdout",
     "output_type": "stream",
     "text": [
      "('if', 'you', 'can')\n",
      "('talk', 'wise')\n",
      "('if', 3)\n",
      "('about', 'all', 'allowance', 'and', 'are', 'be', 'being', 'blaming', 'but', 'by', 'can', 'deal', \"don't\", 'doubt', 'doubting', 'for', 'give', 'good', 'hated', 'hating', 'head', 'if', 'in', 'it', 'keep', 'lied', 'lies', 'look', 'losing', 'make', 'men', 'nor', 'not', 'on', 'or', 'talk', 'their', 'theirs', 'tired', 'to', 'too', 'trust', 'wait', 'waiting', 'way', 'when', 'wise', 'yet', 'you', 'your', 'yourself')\n",
      "(('wise', 1), ('you', 6), ('can', 3), ('keep', 1), ('your', 1), ('head', 1), ('when', 2), ('all', 2), ('about', 2), ('are', 1), ('losing', 1), ('theirs', 1), ('and', 3), ('blaming', 1), ('it', 1), ('on', 1), ('trust', 1), ('yourself', 1), ('men', 1), ('doubt', 1), ('but', 1), ('make', 1), ('allowance', 1), ('for', 1), ('their', 1), ('doubting', 1), ('too', 3), ('wait', 1), ('not', 1), ('be', 1), ('tired', 1), ('by', 1), ('waiting', 1), ('or', 2), ('being', 2), ('lied', 1), (\"don't\", 3), ('deal', 1), ('in', 1), ('lies', 1), ('hated', 1), ('give', 1), ('way', 1), ('to', 1), ('hating', 1), ('yet', 1), ('look', 1), ('good', 1), ('nor', 1), ('talk', 1), ('if', 3))\n"
     ]
    }
   ],
   "source": [
    "verse_dict =  {'if': 3, 'you': 6, 'can': 3, 'keep': 1, 'your': 1, 'head': 1, 'when': 2, 'all': 2, 'about': 2, 'are': 1, 'losing': 1, 'theirs': 1, 'and': 3, 'blaming': 1, 'it': 1, 'on': 1, 'trust': 1, 'yourself': 1, 'men': 1, 'doubt': 1, 'but': 1, 'make': 1, 'allowance': 1, 'for': 1, 'their': 1, 'doubting': 1, 'too': 3, 'wait': 1, 'not': 1, 'be': 1, 'tired': 1, 'by': 1, 'waiting': 1, 'or': 2, 'being': 2, 'lied': 1, 'don\\'t': 3, 'deal': 1, 'in': 1, 'lies': 1, 'hated': 1, 'give': 1, 'way': 1, 'to': 1, 'hating': 1, 'yet': 1, 'look': 1, 'good': 1, 'nor': 1, 'talk': 1, 'wise': 1}\n",
    "\n",
    "# 1. Convert `verse_dict` into a list of tuples and print the first three items. (ordered so you can use split)\n",
    "verse_tuple = tuple(verse_dict)\n",
    "print(verse_tuple[:3])\n",
    "\n",
    "# 2. What is the second highest value in `verse_dict`, and which word corresponds to it?\n",
    "print(verse_tuple[-2:])\n",
    "\n",
    "# 3. Convert the dictionary into a tuple of (key, value) pairs and find the tuple with the smallest value.\n",
    "    # Convert the dictionary into a tuple of (key, value) pairs\n",
    "\"\"\"Keys, values and Items for both\"\"\"\n",
    "verse_tuple = tuple(verse_dict.items()) \n",
    "print(verse_tuple[0])  \n",
    "\n",
    "# 4. Create a tuple containing all the words from `verse_dict`, sorted alphabetically.\n",
    "sorted_verse_keys = sorted(verse_dict.keys(), reverse = False)\n",
    "sorted_verse_tuple = tuple(sorted_verse_keys) \n",
    "print(sorted_verse_tuple)  \n",
    "\n",
    "# 5. Swap the first and last words in the tuple.\n",
    "    # Assuming verse_tuple is your tuple of (key, value) pairs\n",
    "verse_tuple = tuple(verse_dict.items())\n",
    "    # Swap the first and last elements\n",
    "    #manually swap these and the middle is slicing 2nd to 2nd last element and -1 as exclusive\n",
    "swapped_tuple = (verse_tuple[-1],) + verse_tuple[1:-1] + (verse_tuple[0],) \n",
    "print(swapped_tuple)\n"
   ]
  },
  {
   "cell_type": "markdown",
   "metadata": {},
   "source": []
  }
 ],
 "metadata": {
  "kernelspec": {
   "display_name": "Python 3",
   "language": "python",
   "name": "python3"
  },
  "language_info": {
   "codemirror_mode": {
    "name": "ipython",
    "version": 3
   },
   "file_extension": ".py",
   "mimetype": "text/x-python",
   "name": "python",
   "nbconvert_exporter": "python",
   "pygments_lexer": "ipython3",
   "version": "3.10.6"
  }
 },
 "nbformat": 4,
 "nbformat_minor": 2
}
