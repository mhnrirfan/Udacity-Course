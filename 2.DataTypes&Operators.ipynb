{
 "cells": [
  {
   "cell_type": "code",
   "execution_count": 1,
   "metadata": {},
   "outputs": [
    {
     "name": "stdout",
     "output_type": "stream",
     "text": [
      "39.666666666666664\n"
     ]
    }
   ],
   "source": [
    "#Average Electricity Bill\n",
    "\"\"\"My electricity bills for the last three months have been $23, $32 and $64. \n",
    "What is the average monthly electricity bill over the three month period? \n",
    "Write an expression to calculate the mean, and use print() to view the result.\"\"\"\n",
    "\n",
    "# Write an expression that calculates the average of 23, 32 and 64\n",
    "sum = 23 + 32 + 64\n",
    "average = sum/3\n",
    "# Place the expression in this print statement\n",
    "print(average)"
   ]
  },
  {
   "cell_type": "code",
   "execution_count": null,
   "metadata": {},
   "outputs": [],
   "source": [
    "#Quiz: Calculate\n",
    "\"\"\"In this quiz you're going to do some calculations for a tiler. Two parts of a floor need tiling. \n",
    "One part is 9 tiles wide by 7 tiles long, the other is 5 tiles wide by 7 tiles long. Tiles come in packages of 6.\n",
    "How many tiles are needed?\n",
    "You buy 17 packages of tiles containing 6 tiles each. How many tiles will be left over\"\"\"\n",
    "# Fill this in with an expression that calculates how many tiles are needed.\n",
    "tiles_needed = (9*7)+(5*7)\n",
    "print(int(tiles_needed))\n",
    "\n",
    "# Fill this in with an expression that calculates how many tiles will be left over.\n",
    "tiles_bought = 17 * 6 \n",
    "remainder = tiles_bought - tiles_needed\n",
    "print(int(remainder))"
   ]
  },
  {
   "cell_type": "code",
   "execution_count": null,
   "metadata": {},
   "outputs": [],
   "source": [
    "#Quiz: Assign and Modify Variables\n",
    "\"\"\"Now it's your turn to work with variables. \n",
    "The comments in this quiz (the lines that begin with #) have instructions for creating and modifying variables. \n",
    "After each comment write a line of code that implements the instruction.\n",
    "\n",
    "Note that this code uses scientific notation(opens in a new tab) to define large numbers. \n",
    "4.445e8 is equal to 4.445 *10* * 8 which is equal to 444500000.0\"\"\"\n",
    "# The current volume of a water reservoir (in cubic metres)\n",
    "reservoir_volume = 4.445e8\n",
    "# The amount of rainfall from a storm (in cubic metres)\n",
    "rainfall = 5e6\n",
    "\n",
    "# decrease the rainfall variable by 10% to account for runoff\n",
    "rainfall = 5e6 * 0.9\n",
    "# add the rainfall variable to the reservoir_volume variable\n",
    "reservoir_volume += rainfall\n",
    "# increase reservoir_volume by 5% to account for stormwater that flows\n",
    "# into the reservoir in the days following the storm\n",
    "reservoir_volume = reservoir_volume * 1.05\n",
    "\n",
    "# decrease reservoir_volume by 5% to account for evaporation\n",
    "reservoir_volume = reservoir_volume * 0.95\n",
    "\n",
    "# subtract 2.5e5 cubic metres from reservoir_volume to account for water\n",
    "# that's piped to arid regions.\n",
    "reservoir_volume -=  2.5e5\n",
    "\n",
    "# print the new value of the reservoir_volume variable\n",
    "print(reservoir_volume)"
   ]
  },
  {
   "cell_type": "code",
   "execution_count": null,
   "metadata": {},
   "outputs": [],
   "source": [
    "#Quiz: Which is denser, Rio or San Francisco?\n",
    "\"\"\"Try comparison operators in this quiz!\n",
    "This code calculates the population densities of Rio de Janeiro and San Francisco.\n",
    "Write code to compare these densities. \n",
    "Is the population of San Francisco more dense than that of Rio de Janeiro?\n",
    "Print True if it is and False if not.\"\"\"\n",
    "sf_population, sf_area = 864816, 231.89\n",
    "rio_population, rio_area = 6453682, 486.5\n",
    "\n",
    "san_francisco_pop_density = sf_population/sf_area\n",
    "rio_de_janeiro_pop_density = rio_population/rio_area\n",
    "# Write code that prints True if San Francisco is denser than Rio, and False otherwise\n",
    "if san_francisco_pop_density > rio_de_janeiro_pop_density:\n",
    "    print(True)\n",
    "else:\n",
    "    print(False)\n",
    "\n",
    "# Orignal Solution as only 1 line the cost and efficency is less! and computers automatically prints true and false\n",
    "print(san_francisco_pop_density > rio_de_janeiro_pop_density) "
   ]
  },
  {
   "cell_type": "code",
   "execution_count": null,
   "metadata": {},
   "outputs": [],
   "source": [
    "#Concatenation\n",
    "coconut_count = \"34\"\n",
    "mango_count = \"15\"\n",
    "tropical_fruit_count = coconut_count + mango_count\n",
    "print(tropical_fruit_count) #3415"
   ]
  },
  {
   "cell_type": "code",
   "execution_count": null,
   "metadata": {},
   "outputs": [],
   "source": [
    "#Formatting strings / outputting mutiple variables in single string \n",
    "username = \"Kinari\"\n",
    "timestamp = \"04:50\"\n",
    "url = \"http://petshop.com/pets/mammals/cats\"\n",
    "\n",
    "# TODO: print a log message using the variables above.\n",
    "# The message should have the same format as this one:\n",
    "# \"Yogesh accessed the site http://petshop.com/pets/reptiles/pythons at 16:20.\"\n",
    "\n",
    "print(f\"{username} accessed the site {url} at {timestamp}.\")\n",
    "# Actual Solution uses + \n",
    "print (username + \" accessed the site \" + url + \" at \" + timestamp + \".\")"
   ]
  },
  {
   "cell_type": "code",
   "execution_count": null,
   "metadata": {},
   "outputs": [],
   "source": [
    "#Quiz: len()\n",
    "\"\"\" Use string concatenation and the len() function to find the length of a certain movie star's actual full name.\n",
    "Store that length in the name_length variable.\n",
    "Don't forget that there are spaces in between the different parts of a name!\"\"\"\n",
    "given_name = \"William\"\n",
    "middle_names = \"Bradley\"\n",
    "family_name = \"Pitt\"\n",
    "\n",
    "#todo: calculate how long this name is should be 18 must include the spaces\n",
    "name_length = len(given_name +\" \"+ middle_names +\" \"+ family_name)\n",
    "\n",
    "# Now we check to make sure that the name fits within the driving license character limit\n",
    "driving_license_character_limit = 28\n",
    "print(name_length <= driving_license_character_limit)"
   ]
  },
  {
   "cell_type": "code",
   "execution_count": null,
   "metadata": {},
   "outputs": [],
   "source": [
    "#Quiz: Total Sales\n",
    "\"\"\" In this quiz, you’ll need to change the types of the input and output data in order to get the result you want.\n",
    "Calculate and print the total sales for the week from the data provided. \n",
    "Print out a string of the form \"This week's total sales: xxx\", where xxx will be the actual total of all the numbers.\n",
    "You’ll need to change the type of the input data in order to calculate that total.\"\"\"\n",
    "\n",
    "mon_sales = \"121\"\n",
    "tues_sales = \"105\"\n",
    "wed_sales = \"110\"\n",
    "thurs_sales = \"98\"\n",
    "fri_sales = \"95\"\n",
    "\n",
    "total_sales = int(\"121\") + int(\"105\") + int(\"110\") + int(\"98\") + int(\"95\")\n",
    "#TODO: Print a string with this format: This week's total sales: xxx\n",
    "# You will probably need to write some lines of code before the print statement.\n",
    "print(f\"This week's total sales: {total_sales}\")"
   ]
  },
  {
   "cell_type": "code",
   "execution_count": 6,
   "metadata": {},
   "outputs": [
    {
     "name": "stdout",
     "output_type": "stream",
     "text": [
      "['The', 'cow jumped over the moon.']\n",
      "['The', 'cow', 'jumped over the moon.']\n",
      "['The', 'cow', 'jumped', 'over', 'the moon.']\n",
      "['The', 'cow', 'jumped', 'over', 'the', 'moon.']\n",
      "['The', 'cow', 'jumped', 'over', 'the', 'moon.']\n"
     ]
    }
   ],
   "source": [
    "#1 A basic split method:\n",
    "new_str = \"The cow jumped over the moon.\"\n",
    "new_str.split()\n",
    "#['The', 'cow', 'jumped', 'over', 'the', 'moon.'] splits all after space\n",
    "\n",
    "# 2. Here  the separator is space, and the maxsplit argument is set to 3.\n",
    "new_str.split(' ', 3) \n",
    "#['The', 'cow', 'jumped', 'over the moon.'] splits upto 4 elements as it is only 3 commas for split\n",
    "\n",
    "# 3. Using '.' or period as a separator.\n",
    "new_str.split('.')\n",
    "# ['The cow jumped over the moon', ''] splits after the .\n",
    "\n",
    "#4. Using no separators but having a maxsplit argument of 3.\n",
    "new_str.split(None, 3)\n",
    "#['The', 'cow', 'jumped', 'over the moon.'] no seperators but just splits 3\n",
    "\n",
    "print(new_str.split(None, 1))\n",
    "print(new_str.split(None, 2))\n",
    "print(new_str.split(None, 4))\n",
    "print(new_str.split(None, 5))\n",
    "print(new_str.split(None, 10)) #max is 6\n",
    "\"\"\"\n",
    "['The', 'cow jumped over the moon.']\n",
    "['The', 'cow', 'jumped over the moon.']\n",
    "['The', 'cow', 'jumped', 'over', 'the moon.']\n",
    "['The', 'cow', 'jumped', 'over', 'the', 'moon.']\n",
    "['The', 'cow', 'jumped', 'over', 'the', 'moon.']\n",
    "\"\"\""
   ]
  },
  {
   "cell_type": "code",
   "execution_count": 9,
   "metadata": {},
   "outputs": [
    {
     "name": "stdout",
     "output_type": "stream",
     "text": [
      "If you can keep your head when all about you\n",
      "  Are losing theirs and blaming it on you,\n",
      "If you can trust yourself when all men doubt you,\n",
      "  But make allowance for their doubting too;\n",
      "If you can wait and not be tired by waiting,\n",
      "  Or being lied about, don’t deal in lies,\n",
      "Or being hated, don’t give way to hating,\n",
      "  And yet don’t look too good, nor talk too wise: \n",
      "\n",
      "Verse has a length of 362 characters.\n",
      "The first occurence of the word 'and' occurs at the 65th index.\n",
      "The last occurence of the word 'you' occurs at the 186th index.\n",
      "The word 'you' occurs 8 times in the verse.\n",
      "Verse has a length of 362 characters.\n",
      "The first occurence of the word 'and' occurs at the 65th index.\n",
      "The last occurence of the word 'you' occurs at the 186th index.\n",
      "The word 'you' occurs 8 times in the verse.\n"
     ]
    }
   ],
   "source": [
    "#Verse String Methods\n",
    "\"\"\"Use the code editor below to answer the following questions about verse \n",
    "What is the length of the string variable verse?\n",
    "What is the index of the first occurrence of the word 'and' in verse?\n",
    "What is the index of the last occurrence of the word 'you' in verse?\n",
    "What is the count of occurrences of the word 'you' in the verse?\n",
    "\"\"\"\n",
    "verse = \"If you can keep your head when all about you\\n  Are losing theirs and blaming it on you,\\nIf you can trust yourself when all men doubt you,\\n  But make allowance for their doubting too;\\nIf you can wait and not be tired by waiting,\\n  Or being lied about, don’t deal in lies,\\nOr being hated, don’t give way to hating,\\n  And yet don’t look too good, nor talk too wise:\"\n",
    "print(verse, \"\\n\") #gives line breaks\n",
    "\n",
    "message = \"Verse has a length of {} characters.\\nThe first occurence of the \\\n",
    "word 'and' occurs at the {}th index.\\nThe last occurence of the word 'you' \\\n",
    "occurs at the {}th index.\\nThe word 'you' occurs {} times in the verse.\"\n",
    "\n",
    "length = len(verse) #What is the length of the string variable verse?\n",
    "first_idx = verse.find('and') #What is the index of the first occurrence of the word 'and' in verse?\n",
    "last_idx = verse.rfind('you') #What is the index of the last occurrence of the word 'you' in verse?\n",
    "count = verse.count('you') #What is the count of occurrences of the word 'you' in the verse?\n",
    "\n",
    "print(message.format(length, first_idx, last_idx, count))\n",
    "\n",
    "# Bonus: practice using .format() to output your answers in descriptive messages! or just use a formatted string ...\n",
    "print(\"Verse has a length of {} characters.\".format(len(verse)))\n",
    "print(\"The first occurence of the word 'and' occurs at the {}th index.\".format(verse.find('and')))\n",
    "print(\"The last occurence of the word 'you' occurs at the {}th index.\".format(verse.rfind('you')))\n",
    "print(\"The word 'you' occurs {} times in the verse.\".format(verse.count('you')))"
   ]
  }
 ],
 "metadata": {
  "kernelspec": {
   "display_name": "Python 3",
   "language": "python",
   "name": "python3"
  },
  "language_info": {
   "codemirror_mode": {
    "name": "ipython",
    "version": 3
   },
   "file_extension": ".py",
   "mimetype": "text/x-python",
   "name": "python",
   "nbconvert_exporter": "python",
   "pygments_lexer": "ipython3",
   "version": "3.10.6"
  }
 },
 "nbformat": 4,
 "nbformat_minor": 2
}
