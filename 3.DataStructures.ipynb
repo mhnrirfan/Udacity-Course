{
 "cells": [
  {
   "cell_type": "code",
   "execution_count": 2,
   "metadata": {},
   "outputs": [
    {
     "name": "stdout",
     "output_type": "stream",
     "text": [
      "31\n"
     ]
    }
   ],
   "source": [
    "#Quiz: List Indexing\n",
    "\"\"\"Use list indexing to determine how many days are in a particular month based on the integer variable month,\n",
    " and store that value in the integer variable num_days. For example, if month is 8, num_days should be set to 31, \n",
    " since the eighth month, August, has 31 days.\n",
    "\n",
    "Remember to account for zero-based indexing!\"\"\"\n",
    "\n",
    "month = 8\n",
    "num_days = 0\n",
    "days_in_month = [31,28,31,30,31,30,31,31,30,31,30,31]\n",
    "# use list indexing to determine the number of days in month\n",
    "num_days = days_in_month[month-1]\n",
    "print(num_days)"
   ]
  },
  {
   "cell_type": "code",
   "execution_count": 4,
   "metadata": {},
   "outputs": [
    {
     "name": "stdout",
     "output_type": "stream",
     "text": [
      "['November 13, 2012', 'March 20, 2015', 'March 9, 2016']\n"
     ]
    }
   ],
   "source": [
    "#Quiz: Slicing Lists\n",
    "\"\"\" Select the three most recent dates from this list using list slicing notation. \n",
    "Hint: negative indexes work in slices!\"\"\"\n",
    "eclipse_dates = ['June 21, 2001', 'December 4, 2002', 'November 23, 2003',\n",
    "                 'March 29, 2006', 'August 1, 2008', 'July 22, 2009',\n",
    "                 'July 11, 2010', 'November 13, 2012', 'March 20, 2015',\n",
    "                 'March 9, 2016']\n",
    "                 \n",
    "                 \n",
    "# TODO: Modify this line so it prints the last three elements of the list\n",
    "print(eclipse_dates[7:])\n",
    "print(eclipse_dates[-3:])"
   ]
  },
  {
   "cell_type": "code",
   "execution_count": 7,
   "metadata": {},
   "outputs": [
    {
     "name": "stdout",
     "output_type": "stream",
     "text": [
      "4\n",
      "2\n"
     ]
    }
   ],
   "source": [
    "a = [1, 5, 8]\n",
    "b = [2, 6, 9, 10]\n",
    "c = [100, 200]\n",
    "\n",
    "print(max([len(a), len(b), len(c)])) #max (3,4,2) -> 4\n",
    "print(min([len(a), len(b), len(c)])) #min (3,4,2) -> 2"
   ]
  },
  {
   "cell_type": "code",
   "execution_count": 9,
   "metadata": {},
   "outputs": [
    {
     "name": "stdout",
     "output_type": "stream",
     "text": [
      "Albert & Ben & Carol & Donna\n",
      "['Albert', 'Ben', 'Carol', 'Donna', 'Eugenia']\n"
     ]
    }
   ],
   "source": [
    "names = [\"Carol\", \"Albert\", \"Ben\", \"Donna\"]\n",
    "print(\" & \".join(sorted(names))) #alphabetical Albert & Ben & Carol & Donna\n",
    "\n",
    "names = [\"Carol\", \"Albert\", \"Ben\", \"Donna\"]\n",
    "names.append(\"Eugenia\")\n",
    "print(sorted(names))#alphabetical ['Albert', 'Ben', 'Carol'  'Donna' , 'Eugenia'] the actual list\n"
   ]
  },
  {
   "cell_type": "code",
   "execution_count": 12,
   "metadata": {},
   "outputs": [
    {
     "name": "stdout",
     "output_type": "stream",
     "text": [
      "['e', 'f', 'g']\n",
      "['a', 'b', 'c']\n",
      "['c', 'd', 'e', 'f']\n"
     ]
    }
   ],
   "source": [
    "arr = ['a', 'b', 'c', 'd', 'e', 'f', 'g']\n",
    "print(arr[4:])#last three\n",
    "print(arr[:3])#first three\n",
    "print(arr[2:6])#incl index 2=c exclude index 7=g"
   ]
  },
  {
   "cell_type": "code",
   "execution_count": null,
   "metadata": {},
   "outputs": [],
   "source": [
    "#Tuple Packing\n",
    "dimensions = 52, 40, 100\n",
    "length, width, height = dimensions\n",
    "print(\"The dimensions are {} x {} x {}\".format(length, width, height))\n",
    "\n",
    "\"\"\"If we won't need to use dimensions directly, we could shorten those two lines of code \n",
    "into a single line that assigns three variables in one go!\"\"\"\n",
    "length, width, height = 52, 40, 100\n",
    "print(\"The dimensions are {} x {} x {}\".format(length, width, height))"
   ]
  },
  {
   "cell_type": "code",
   "execution_count": 20,
   "metadata": {},
   "outputs": [
    {
     "name": "stdout",
     "output_type": "stream",
     "text": [
      "False\n",
      "{'apple', 'orange', 'grapefruit', 'banana', 'watermelon'}\n",
      "apple\n",
      "{'orange', 'grapefruit', 'banana', 'watermelon'}\n"
     ]
    }
   ],
   "source": [
    "#Sets\n",
    "fruit = {\"apple\", \"banana\", \"orange\", \"grapefruit\"}  # define a set\n",
    "\n",
    "print(\"watermelon\" in fruit)  # check for element which is false\n",
    "\n",
    "fruit.add(\"watermelon\")  # add an element the element and print\n",
    "print(fruit)\n",
    "\n",
    "print(fruit.pop())  # remove a random element removes randomly but doesnt really change every time !! not last one always\n",
    "print(fruit)"
   ]
  },
  {
   "cell_type": "code",
   "execution_count": 22,
   "metadata": {},
   "outputs": [
    {
     "name": "stdout",
     "output_type": "stream",
     "text": [
      "6\n"
     ]
    },
    {
     "data": {
      "text/plain": [
       "1"
      ]
     },
     "execution_count": 22,
     "metadata": {},
     "output_type": "execute_result"
    }
   ],
   "source": [
    "a = [1, 2, 2, 3, 3, 3, 4, 4, 4, 4]\n",
    "b = set(a) # remove duplicates so you get [1,2,3,4]\n",
    "print(len(a) - len(b))\n",
    "\n",
    "a = [1, 2, 2, 3, 3, 3, 4, 4, 4, 4]\n",
    "b = set(a) # remove duplicates\n",
    "b.add(5) #adds 5\n",
    "b.pop() #5 is not garanteed to be removed as random"
   ]
  },
  {
   "cell_type": "code",
   "execution_count": 1,
   "metadata": {},
   "outputs": [
    {
     "name": "stdout",
     "output_type": "stream",
     "text": [
      "2\n",
      "True\n",
      "None\n",
      "True\n",
      "False\n"
     ]
    }
   ],
   "source": [
    "elements = {\"hydrogen\": 1, \"helium\": 2, \"carbon\": 6}\n",
    "print(elements[\"helium\"])  # print the value mapped to \"helium\"\n",
    "elements[\"lithium\"] = 3  # insert \"lithium\" with a value of 3 into the dictionary\n",
    "print(\"carbon\" in elements) #check if carbon is in the dictionary\n",
    "print(elements.get(\"dilithium\")) #doesnt exist so returns None\n",
    "\n",
    "n = elements.get(\"dilithium\")\n",
    "print(n is None) #Prints the boolean response = true\n",
    "print(n is not None) #Prints the boolean response = false"
   ]
  },
  {
   "cell_type": "code",
   "execution_count": 5,
   "metadata": {},
   "outputs": [],
   "source": [
    "# Define a Dictionary, population,\n",
    "# that provides information\n",
    "# on the world's largest cities.\n",
    "# The key is the name of a city\n",
    "# (a string), and the associated\n",
    "# value is its population in\n",
    "# millions of people.\n",
    "\n",
    "#   Key     |   Value\n",
    "# Shanghai  |   17.8\n",
    "# Istanbul  |   13.3\n",
    "# Karachi   |   13.0\n",
    "# Mumbai    |   12.5\n",
    "\n",
    "population = {\"Shanghai\":17.8,\"Istanbul\":13.3,\"Karachi\":13.0,\"Mumbai\":12.5}\n",
    "# print(population[\"Lahore\"]) #Key Error\n"
   ]
  },
  {
   "cell_type": "code",
   "execution_count": 6,
   "metadata": {},
   "outputs": [
    {
     "name": "stdout",
     "output_type": "stream",
     "text": [
      "True\n",
      "True\n",
      "True\n",
      "False\n"
     ]
    }
   ],
   "source": [
    "a = [1, 2, 3]\n",
    "b = a #[1, 2, 3]\n",
    "c = [1, 2, 3]\n",
    "\n",
    "print(a == b) #True\n",
    "print(a is b) #True\n",
    "print(a == c) #True\n",
    "print(a is c) #False as never assigned outside of the code"
   ]
  },
  {
   "cell_type": "code",
   "execution_count": 9,
   "metadata": {},
   "outputs": [
    {
     "name": "stdout",
     "output_type": "stream",
     "text": [
      "[20, 10, 15, 8, 32, 15]\n",
      "8\n",
      "[0.3, 0.5, 0.8, 0.3, 1]\n"
     ]
    }
   ],
   "source": [
    "animals = {'dogs': [20, 10, 15, 8, 32, 15], \n",
    " 'cats': [3,4,2,8,2,4], \n",
    " 'rabbits': [2, 3, 3], \n",
    " 'fish': [0.3, 0.5, 0.8, 0.3, 1]}\n",
    "\n",
    "# The result of animals -> value of dogs = [20, 10, 15, 8, 32, 15]\n",
    "print(animals['dogs'])\n",
    "\n",
    "# The result of animals -> 8\n",
    "print(animals['dogs'][3])\n",
    "\n",
    "# The result -> Error cannot do this to a dictionary only list\n",
    "#animals[3]\n",
    "\n",
    "# The result of animals -> value of fish = [0.3, 0.5, 0.8, 0.3, 1]\n",
    "print(animals['fish'])"
   ]
  },
  {
   "cell_type": "code",
   "execution_count": null,
   "metadata": {},
   "outputs": [],
   "source": [
    "# invalid dictionary - this should break\n",
    "room_numbers = {\n",
    "    ['Freddie', 'Jen']: 403,\n",
    "    ['Ned', 'Keith']: 391,\n",
    "    ['Kristin', 'Jazzmyne']: 411,\n",
    "    ['Eugene', 'Zach']: 395\n",
    "}\n",
    "\n",
    "# valid dictionary - this should not break\n",
    "room_numbers = {\n",
    "    ('Freddie', 'Jen'): 403,\n",
    "    ('Ned', 'Keith'): 391,\n",
    "    ('Kristin', 'Jazzmyne'): 411,\n",
    "    ('Eugene', 'Zach'): 395\n",
    "}"
   ]
  },
  {
   "cell_type": "code",
   "execution_count": 10,
   "metadata": {},
   "outputs": [
    {
     "name": "stdout",
     "output_type": "stream",
     "text": [
      "elements =  {'hydrogen': {'number': 1, 'weight': 1.00794, 'symbol': 'H'}, 'helium': {'number': 2, 'weight': 4.002602, 'symbol': 'He'}, 'oxygen': {'number': 8, 'weight': 15.999, 'symbol': 'O'}}\n"
     ]
    }
   ],
   "source": [
    "elements = {\"hydrogen\": {\"number\": 1,\n",
    "                         \"weight\": 1.00794,\n",
    "                         \"symbol\": \"H\"},\n",
    "              \"helium\": {\"number\": 2,\n",
    "                         \"weight\": 4.002602,\n",
    "                         \"symbol\": \"He\"}}\n",
    "                         \n",
    "# We can access elements in this nested dictionary like this.\n",
    "helium = elements[\"helium\"]  # get the helium dictionary\n",
    "hydrogen_weight = elements[\"hydrogen\"][\"weight\"]  # get hydrogen's weight\n",
    "\n",
    "#You can also add a new key to the element dictionary.\n",
    "oxygen = {\"number\":8,\"weight\":15.999,\"symbol\":\"O\"}  # create a new oxygen dictionary \n",
    "elements[\"oxygen\"] = oxygen  # assign 'oxygen' as a key to the elements dictionary\n",
    "print('elements = ', elements)"
   ]
  },
  {
   "cell_type": "code",
   "execution_count": 13,
   "metadata": {},
   "outputs": [
    {
     "name": "stdout",
     "output_type": "stream",
     "text": [
      "elements =  {'hydrogen': {'number': 1, 'weight': 1.00794, 'symbol': 'H', 'is_noble_gas': False}, 'helium': {'number': 2, 'weight': 4.002602, 'symbol': 'He', 'is_noble_gas': True}}\n",
      "False\n",
      "True\n"
     ]
    }
   ],
   "source": [
    "#Adding Values to Nested Dictionaries\n",
    "\"\"\" \n",
    "Try your hand at working with nested dictionaries. Add another entry, 'is_noble_gas,' to each dictionary in the elements dictionary. \n",
    "After inserting the new entries you should be able to perform these lookups:\n",
    "\n",
    ">>> print(elements['hydrogen']['is_noble_gas'])\n",
    "False\n",
    ">>> print(elements['helium']['is_noble_gas'])\n",
    "True\n",
    "\n",
    "\n",
    "\"\"\"\n",
    "elements = {'hydrogen': {'number': 1, 'weight': 1.00794, 'symbol': 'H'},\n",
    "            'helium': {'number': 2, 'weight': 4.002602, 'symbol': 'He'}}\n",
    "# hint: helium is a noble gas, hydrogen isn't\n",
    "# todo: Add an 'is_noble_gas' entry to the hydrogen and helium dictionaries\n",
    "hydrogen =  {'number': 1, 'weight': 1.00794, 'symbol': 'H', 'is_noble_gas': False}\n",
    "helium =  {'number': 2, 'weight': 4.002602, 'symbol': 'He', 'is_noble_gas': True}\n",
    "\n",
    "elements[\"hydrogen\"] = hydrogen\n",
    "elements[\"helium\"] = helium\n",
    "\n",
    "# Print to check if added\n",
    "print('elements = ', elements)\n",
    "\n",
    "# Check Response\n",
    "print(elements['hydrogen']['is_noble_gas'])\n",
    "print(elements['helium']['is_noble_gas'])\n",
    "\n"
   ]
  },
  {
   "cell_type": "code",
   "execution_count": 29,
   "metadata": {},
   "outputs": [
    {
     "name": "stdout",
     "output_type": "stream",
     "text": [
      "if you can keep your head when all about you are losing theirs and blaming it on you   if you can trust yourself when all men doubt you     but make allowance for their doubting too   if you can wait and not be tired by waiting      or being lied about  don’t deal in lies   or being hated  don’t give way to hating      and yet don’t look too good  nor talk too wise \n",
      "\n",
      "['if', 'you', 'can', 'keep', 'your', 'head', 'when', 'all', 'about', 'you', 'are', 'losing', 'theirs', 'and', 'blaming', 'it', 'on', 'you', 'if', 'you', 'can', 'trust', 'yourself', 'when', 'all', 'men', 'doubt', 'you', 'but', 'make', 'allowance', 'for', 'their', 'doubting', 'too', 'if', 'you', 'can', 'wait', 'and', 'not', 'be', 'tired', 'by', 'waiting', 'or', 'being', 'lied', 'about', 'don’t', 'deal', 'in', 'lies', 'or', 'being', 'hated', 'don’t', 'give', 'way', 'to', 'hating', 'and', 'yet', 'don’t', 'look', 'too', 'good', 'nor', 'talk', 'too', 'wise'] \n",
      "\n",
      "{'look', 'not', 'be', 'lies', 'if', 'doubt', 'are', 'wait', 'blaming', 'and', 'hated', 'waiting', 'trust', 'don’t', 'to', 'about', 'it', 'way', 'allowance', 'theirs', 'wise', 'can', 'or', 'for', 'on', 'yourself', 'men', 'but', 'give', 'all', 'make', 'you', 'too', 'when', 'by', 'in', 'deal', 'lied', 'good', 'tired', 'keep', 'doubting', 'hating', 'head', 'nor', 'their', 'your', 'talk', 'being', 'yet', 'losing'} \n",
      "\n",
      "51 \n",
      "\n"
     ]
    }
   ],
   "source": [
    "#Quiz Count Unique Words\n",
    "\"\"\"Your task for this quiz is to find the number of unique words in the text. \n",
    "In the code editor below, complete these three steps to get your answer.\n",
    "\n",
    "1. Split verse into a list of words. Hint: You can use a string method you learned in the previous lesson.\n",
    "2. Convert the list into a data structure that would keep only the unique elements from the list.\n",
    "3. Print the length of the container\"\"\"\n",
    "\n",
    "verse = \"if you can keep your head when all about you are losing theirs and blaming it on you   if you can trust yourself when all men doubt you     but make allowance for their doubting too   if you can wait and not be tired by waiting      or being lied about  don’t deal in lies   or being hated  don’t give way to hating      and yet don’t look too good  nor talk too wise\"\n",
    "print(verse, '\\n')\n",
    "\n",
    "# split verse into list of words\n",
    "verse_list = verse.split() #Dont use \" \" as you get the line spaces too\n",
    "print(verse_list, '\\n') # Need to remove the line break spaces\n",
    "\n",
    "# convert list to a data structure that stores unique elements\n",
    "verse_set = set(verse_list)\n",
    "print(verse_set, '\\n')\n",
    "\n",
    "# print the number of unique words\n",
    "num_unique = (len(verse_set))  #to remove the \"\" value\n",
    "print(num_unique, '\\n')\n"
   ]
  },
  {
   "cell_type": "code",
   "execution_count": 41,
   "metadata": {},
   "outputs": [
    {
     "name": "stdout",
     "output_type": "stream",
     "text": [
      "{'if': 3, 'you': 6, 'can': 3, 'keep': 1, 'your': 1, 'head': 1, 'when': 2, 'all': 2, 'about': 2, 'are': 1, 'losing': 1, 'theirs': 1, 'and': 3, 'blaming': 1, 'it': 1, 'on': 1, 'trust': 1, 'yourself': 1, 'men': 1, 'doubt': 1, 'but': 1, 'make': 1, 'allowance': 1, 'for': 1, 'their': 1, 'doubting': 1, 'too': 3, 'wait': 1, 'not': 1, 'be': 1, 'tired': 1, 'by': 1, 'waiting': 1, 'or': 2, 'being': 2, 'lied': 1, \"don't\": 3, 'deal': 1, 'in': 1, 'lies': 1, 'hated': 1, 'give': 1, 'way': 1, 'to': 1, 'hating': 1, 'yet': 1, 'look': 1, 'good': 1, 'nor': 1, 'talk': 1, 'wise': 1} \n",
      "\n",
      "51\n",
      "None\n",
      "False\n",
      "['about', 'all', 'allowance', 'and', 'are', 'be', 'being', 'blaming', 'but', 'by', 'can', 'deal', \"don't\", 'doubt', 'doubting', 'for', 'give', 'good', 'hated', 'hating', 'head', 'if', 'in', 'it', 'keep', 'lied', 'lies', 'look', 'losing', 'make', 'men', 'nor', 'not', 'on', 'or', 'talk', 'their', 'theirs', 'tired', 'to', 'too', 'trust', 'wait', 'waiting', 'way', 'when', 'wise', 'yet', 'you', 'your', 'yourself']\n",
      "about\n",
      "you\n",
      "yourself\n",
      "\n"
     ]
    }
   ],
   "source": [
    "#Quiz: Verse Dictionary\n",
    "\"\"\" In the code editor below, you'll find a dictionary containing the unique words of verse stored as keys and \n",
    "the number of times they appear in verse stored as values. Use this dictionary to answer the following questions.\n",
    "Submit these answers in the quiz below the code editor.\n",
    "\n",
    "Try to answer these using code, rather than inspecting the dictionary manually!\n",
    "\n",
    "How many unique words are in verse_dict?\n",
    "Is the key \"breathe\" in verse_dict?\n",
    "What is the first element in the list created when verse_dict is sorted by keys?\n",
    "\n",
    "Hint: Use the appropriate dictionary method to get a list of its keys,\n",
    "and then sort that list. Use this list of keys to answer the next two questions as well.\n",
    "Which key (word) has the highest value in verse_dict?\"\"\"\n",
    "\n",
    "verse_dict =  {'if': 3, 'you': 6, 'can': 3, 'keep': 1, 'your': 1, 'head': 1, 'when': 2, 'all': 2, 'about': 2, 'are': 1, 'losing': 1, 'theirs': 1, 'and': 3, 'blaming': 1, 'it': 1, 'on': 1, 'trust': 1, 'yourself': 1, 'men': 1, 'doubt': 1, 'but': 1, 'make': 1, 'allowance': 1, 'for': 1, 'their': 1, 'doubting': 1, 'too': 3, 'wait': 1, 'not': 1, 'be': 1, 'tired': 1, 'by': 1, 'waiting': 1, 'or': 2, 'being': 2, 'lied': 1, 'don\\'t': 3, 'deal': 1, 'in': 1, 'lies': 1, 'hated': 1, 'give': 1, 'way': 1, 'to': 1, 'hating': 1, 'yet': 1, 'look': 1, 'good': 1, 'nor': 1, 'talk': 1, 'wise': 1}\n",
    "print(verse_dict, '\\n')\n",
    "\n",
    "# find number of unique keys in the dictionary\n",
    "num_keys = len(verse_dict.keys() )# where value = 1\n",
    "print(num_keys)\n",
    "\n",
    "# find whether 'breathe' is a key in the dictionary\n",
    "contains_breathe1 = elements.get(\"breathe\")\n",
    "contains_breathe2 = \"breathe\" in verse_dict #No need to add \"is\"\n",
    "\n",
    "print(contains_breathe1)#None\n",
    "print(contains_breathe2)#False\n",
    "\n",
    "# create and sort a list of the dictionary's keys\n",
    "sorted_keys = sorted(verse_dict.keys())\n",
    "print(sorted_keys)\n",
    "\n",
    "# get the first element in the sorted list of keys \n",
    "print(sorted_keys[0])\n",
    "\n",
    "# find the element with the highest value in the list of keys\n",
    "#Highest occurance\n",
    "max_key = max(verse_dict, key=verse_dict.get)\n",
    "print(max_key)\n",
    "\n",
    "#Highest value in list - last\n",
    "print(sorted_keys[-1])\n",
    "print() "
   ]
  },
  {
   "cell_type": "code",
   "execution_count": null,
   "metadata": {},
   "outputs": [],
   "source": [
    "\n"
   ]
  }
 ],
 "metadata": {
  "kernelspec": {
   "display_name": "Python 3",
   "language": "python",
   "name": "python3"
  },
  "language_info": {
   "codemirror_mode": {
    "name": "ipython",
    "version": 3
   },
   "file_extension": ".py",
   "mimetype": "text/x-python",
   "name": "python",
   "nbconvert_exporter": "python",
   "pygments_lexer": "ipython3",
   "version": "3.10.6"
  }
 },
 "nbformat": 4,
 "nbformat_minor": 2
}
