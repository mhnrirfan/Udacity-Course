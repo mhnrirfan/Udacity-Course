{
 "cells": [
  {
   "cell_type": "markdown",
   "metadata": {},
   "source": [
    "## Quiz: Population Density Function\n",
    "- Write a function named population_density that takes two arguments, population and land_area, and returns a population density calculated from those values.\n",
    "-  I've included two test cases that you can use to verify that your function works correctly. \n",
    "- Once you've written your function, use the Test Run button to test your code."
   ]
  },
  {
   "cell_type": "code",
   "execution_count": 1,
   "metadata": {},
   "outputs": [
    {
     "name": "stdout",
     "output_type": "stream",
     "text": [
      "expected result: 10, actual result: 10.0\n",
      "expected result: 7123.6902801, actual result: 7123.690280065897\n"
     ]
    }
   ],
   "source": [
    "# write your function here\n",
    "def population_density(population, land_area):\n",
    "    population_density = population/land_area\n",
    "    return population_density\n",
    "\n",
    "\n",
    "# test cases for your function\n",
    "test1 = population_density(10, 1)\n",
    "expected_result1 = 10\n",
    "print(\"expected result: {}, actual result: {}\".format(expected_result1, test1))\n",
    "\n",
    "test2 = population_density(864816, 121.4)\n",
    "expected_result2 = 7123.6902801\n",
    "print(\"expected result: {}, actual result: {}\".format(expected_result2, test2))"
   ]
  },
  {
   "cell_type": "markdown",
   "metadata": {},
   "source": [
    "## Quiz: readable_timedelta\n",
    "- Write a function named readable_timedelta. The function should take one argument, an integer days, and return a string that says how many weeks and days that is. \n",
    "- For example, calling the function and printing the result like this:\n",
    "    print(readable_timedelta(10))\n",
    "    should output the following: 1 week(s) and 3 day(s)."
   ]
  },
  {
   "cell_type": "code",
   "execution_count": 6,
   "metadata": {},
   "outputs": [
    {
     "name": "stdout",
     "output_type": "stream",
     "text": [
      "1 week(s) and 3 days(s).\n",
      "0 week(s) and 1 days(s).\n",
      "1 week(s) and 2 days(s).\n"
     ]
    }
   ],
   "source": [
    "def readable_timedelta(days): # days is an int \n",
    "    weeks = int(days//7)\n",
    "    days_rem = days%7\n",
    "    return f\"{weeks} week(s) and {days_rem} day(s).\"\n",
    "\n",
    "print(readable_timedelta(10))\n",
    "print(readable_timedelta(1))\n",
    "print(readable_timedelta(9))"
   ]
  },
  {
   "cell_type": "markdown",
   "metadata": {},
   "source": [
    "### Variable Scope Questions"
   ]
  },
  {
   "cell_type": "code",
   "execution_count": 9,
   "metadata": {},
   "outputs": [
    {
     "data": {
      "text/plain": [
       "\"\\nThis causes an UnboundLocalError, since Python doesn't allow functions to modify variables that are outside the function's scope. \\nA better way would be to pass the variable as an argument and reassign it outside the function. \\n\""
      ]
     },
     "execution_count": 9,
     "metadata": {},
     "output_type": "execute_result"
    }
   ],
   "source": [
    "egg_count = 0\n",
    "def buy_eggs():\n",
    "    egg_count += 12 # purchase a dozen eggs\n",
    "#buy_eggs()\n",
    "\n",
    "egg_count = 0\n",
    "\"\"\"\n",
    "This causes an UnboundLocalError, since Python doesn't allow functions to modify variables that are outside the function's scope. \n",
    "A better way would be to pass the variable as an argument and reassign it outside the function. \n",
    "\"\"\"\n",
    "\n",
    "# solutions\n",
    "def buy_eggs(count):\n",
    "    return count + 12  # purchase a dozen eggs\n",
    "\n",
    "egg_count = buy_eggs(egg_count)"
   ]
  },
  {
   "cell_type": "code",
   "execution_count": 10,
   "metadata": {},
   "outputs": [
    {
     "name": "stdout",
     "output_type": "stream",
     "text": [
      "Variable scope is an important concept.\n"
     ]
    },
    {
     "data": {
      "text/plain": [
       "'\\n- either the code with overwrite what the value is or it will vause an error as cannot modify functions outside the function\\n'"
      ]
     },
     "execution_count": 10,
     "metadata": {},
     "output_type": "execute_result"
    }
   ],
   "source": [
    "str1 = 'Functions are important programming concepts.'\n",
    "\n",
    "def print_fn():\n",
    "    str1 = 'Variable scope is an important concept.'\n",
    "    print(str1)\n",
    "\n",
    "print_fn()\n",
    "\n",
    "# What will happen when we run this code?\n",
    "\"\"\"\n",
    "- either the code with overwrite what the value is no error as print not return\n",
    "\"\"\""
   ]
  },
  {
   "cell_type": "code",
   "execution_count": 11,
   "metadata": {},
   "outputs": [
    {
     "name": "stdout",
     "output_type": "stream",
     "text": [
      "Functions are important programming concepts.\n"
     ]
    },
    {
     "data": {
      "text/plain": [
       "'\\n- will print the outer global function\\n'"
      ]
     },
     "execution_count": 11,
     "metadata": {},
     "output_type": "execute_result"
    }
   ],
   "source": [
    "str1 = 'Functions are important programming concepts.'\n",
    "\n",
    "def print_fn():\n",
    "    #str1 = 'Variable scope is an important concept.'\n",
    "    print(str1)\n",
    "\n",
    "print_fn()\n",
    "\n",
    "# What will happen when we run this code?\n",
    "\"\"\"\n",
    "- will print the outer global function\n",
    "\"\"\""
   ]
  },
  {
   "cell_type": "markdown",
   "metadata": {},
   "source": [
    "### Lamdba Functions \n",
    "- Lambda expressions to create anonymous functions. That is, functions that don’t have a name.\n",
    "-  They are helpful for creating quick functions that aren’t needed later in your code. \n",
    "- This can be especially useful for higher order functions, or functions that take in other functions as arguments."
   ]
  },
  {
   "cell_type": "code",
   "execution_count": 12,
   "metadata": {},
   "outputs": [
    {
     "data": {
      "text/plain": [
       "28"
      ]
     },
     "execution_count": 12,
     "metadata": {},
     "output_type": "execute_result"
    }
   ],
   "source": [
    "def multiply(x, y):\n",
    "    return x * y\n",
    "# reduced to:\n",
    "multiply = lambda x, y: x * y\n",
    "\"\"\" function name = lambda arg1, arg2: calc return \"\"\"\n",
    "\n",
    "# call function \n",
    "multiply(4, 7)"
   ]
  },
  {
   "cell_type": "markdown",
   "metadata": {},
   "source": [
    "### Quiz: Lambda with Map\n",
    "map() is a higher-order built-in function that takes a function and iterable as inputs, and returns an iterator that applies the function to each element of the iterable. \n",
    "The code below uses map() to find the mean of each list in numbers to create the list averages. Give it a test run to see what happens.\n",
    "\n",
    "Rewrite this code to be more concise by replacing the mean function with a lambda expression defined within the call to map()."
   ]
  },
  {
   "cell_type": "code",
   "execution_count": 14,
   "metadata": {},
   "outputs": [
    {
     "name": "stdout",
     "output_type": "stream",
     "text": [
      "[57.0, 58.2, 50.6, 27.2]\n"
     ]
    }
   ],
   "source": [
    "numbers = [\n",
    "              [34, 63, 88, 71, 29],\n",
    "              [90, 78, 51, 27, 45],\n",
    "              [63, 37, 85, 46, 22],\n",
    "              [51, 22, 34, 11, 18]\n",
    "           ]\n",
    "\n",
    "# def mean(num_list):\n",
    "   # return sum(num_list) / len(num_list)\n",
    "\n",
    "mean = lambda num_list: sum(num_list) / len(num_list)\n",
    "averages = list(map(mean, numbers))\n",
    "print(averages)"
   ]
  },
  {
   "cell_type": "markdown",
   "metadata": {},
   "source": [
    "### Quiz: Lambda with Filter\n",
    "filter() is a higher-order built-in function that takes a function and iterable as inputs and returns an iterator with the elements from the iterable for which the function returns True. \n",
    "- The code below uses filter() to get the names in cities that are fewer than 10 characters long to create the list short_cities. \n",
    "- Give it a test run to see what happens.\n",
    "\n",
    "Rewrite this code to be more concise by replacing the is_short function with a lambda expression defined within the call to filter().\n"
   ]
  },
  {
   "cell_type": "code",
   "execution_count": 17,
   "metadata": {},
   "outputs": [
    {
     "name": "stdout",
     "output_type": "stream",
     "text": [
      "['Chicago', 'Denver', 'Boston']\n"
     ]
    }
   ],
   "source": [
    "cities = [\"New York City\", \"Los Angeles\", \"Chicago\", \"Mountain View\", \"Denver\", \"Boston\"]\n",
    "\n",
    "#def is_short(name):\n",
    "    #return len(name) < 10\n",
    "\n",
    "# is_short = lambda name: len(name) < 10\n",
    "# further \n",
    "short_cities = list(filter(lambda name: len(name) < 10, cities))\n",
    "print(short_cities)"
   ]
  },
  {
   "cell_type": "markdown",
   "metadata": {},
   "source": [
    "### importing local scripts \n",
    "import useful_functions as uf\n",
    "uf.add_five([1, 2, 3, 4])"
   ]
  }
 ],
 "metadata": {
  "kernelspec": {
   "display_name": "Python 3",
   "language": "python",
   "name": "python3"
  },
  "language_info": {
   "codemirror_mode": {
    "name": "ipython",
    "version": 3
   },
   "file_extension": ".py",
   "mimetype": "text/x-python",
   "name": "python",
   "nbconvert_exporter": "python",
   "pygments_lexer": "ipython3",
   "version": "3.10.6"
  }
 },
 "nbformat": 4,
 "nbformat_minor": 2
}
